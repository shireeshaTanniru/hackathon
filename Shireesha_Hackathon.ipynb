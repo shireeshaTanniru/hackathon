{
 "cells": [
  {
   "cell_type": "markdown",
   "id": "3d0541a2",
   "metadata": {},
   "source": [
    "<div class=\"jp-Cell-inputWrapper\"><div class=\"jp-InputPrompt jp-InputArea-prompt\">\n",
    "</div><div class=\"jp-RenderedHTMLCommon jp-RenderedMarkdown jp-MarkdownOutput \" data-mime-type=\"text/markdown\">\n",
    "<div style=\"background-color:#2E87A4 ;color:#FDFDFD;padding:20px;border:1px solid #3184BB;text-align:center;\">\n",
    "<p><font size=\"20\" color=#FDFAFD face=\"Lora\"><i> Hackathon </i></font> </p>\n",
    "</div>"
   ]
  },
  {
   "cell_type": "markdown",
   "id": "ae9d0752",
   "metadata": {},
   "source": [
    "<div class=\"jp-Cell-inputWrapper\"><div class=\"jp-InputPrompt jp-InputArea-prompt\">\n",
    "</div><div class=\"jp-RenderedHTMLCommon jp-RenderedMarkdown jp-MarkdownOutput \" data-mime-type=\"text/markdown\">\n",
    "<div style=\"background-color:#2E87A4 ;color:#FDFDFD;padding:20px;border:1px solid #3184BB;text-align:center;\">\n",
    "<p><font size=\"10\" color=#FDFAFD face=\"Lora\"><i> Data Analysis on Electric Vehicle </i></font> </p>\n",
    "</div>"
   ]
  },
  {
   "cell_type": "markdown",
   "id": "36a57bae",
   "metadata": {
    "id": "9367b366"
   },
   "source": [
    "#### Importing the Required Libraries"
   ]
  },
  {
   "cell_type": "code",
   "execution_count": null,
   "id": "4a9e8b8f",
   "metadata": {
    "ExecuteTime": {
     "end_time": "2023-07-23T04:15:47.821596Z",
     "start_time": "2023-07-23T04:15:42.550294Z"
    },
    "id": "4a9e8b8f"
   },
   "outputs": [],
   "source": [
    "import pandas as pd\n",
    "import numpy as np\n",
    "import seaborn as sns\n",
    "import matplotlib.pyplot as plt\n",
    "import plotly.express as px\n",
    "import plotly.graph_objects as go\n",
    "import re\n",
    "\n",
    "from IPython.core.interactiveshell import InteractiveShell\n",
    "InteractiveShell.ast_node_interactivity = 'all'"
   ]
  },
  {
   "cell_type": "markdown",
   "id": "69a71a96",
   "metadata": {
    "id": "69a71a96"
   },
   "source": [
    "#### Reading The Dataset"
   ]
  },
  {
   "cell_type": "code",
   "execution_count": null,
   "id": "8c1dcd97",
   "metadata": {
    "ExecuteTime": {
     "end_time": "2023-07-23T04:15:48.209926Z",
     "start_time": "2023-07-23T04:15:47.825620Z"
    },
    "id": "8c1dcd97"
   },
   "outputs": [],
   "source": [
    "# loading the data set\n",
    "\n",
    "df=pd.read_csv(r\"C:\\data\\dataset(hackthon).csv\")"
   ]
  },
  {
   "cell_type": "markdown",
   "id": "yY-Ysr8FQ34C",
   "metadata": {
    "id": "yY-Ysr8FQ34C"
   },
   "source": [
    "Dataset Description"
   ]
  },
  {
   "cell_type": "markdown",
   "id": "NKU8qrqlP5n-",
   "metadata": {
    "id": "NKU8qrqlP5n-"
   },
   "source": [
    "VIN (1-10)-Vehicle Identification Number of the vehicle mentioned in the dataset.\n",
    "\n",
    "County-Name of the County from where the data is gathered.\n",
    "\n",
    "City-Name of the Cities from where the data is gathered.\n",
    "\n",
    "State-Name of the State from where the data is gathered.\n",
    "\n",
    "Postal Code-The postal code from where the data is gathered.\n",
    "\n",
    "Model Year-Manufacturing year of the model mentioned in the data set.\n",
    "\n",
    "Make-Manufacturer of the vehicle.\n",
    "\n",
    "Model-Model Name of the mentioned vehicle.\n",
    "\n",
    "Electric Vehicle Type-Type of the vehicle present in the dataset.\n",
    "\n",
    "Clean Alternative Fuel Vehicle (CAFV) Eligibility-Clean Alternative for the data present in this dataset.\n",
    "\n",
    "Vehicle Location-logitude and latitude\n",
    "\n",
    "Electric Range-range of kms travelled"
   ]
  },
  {
   "cell_type": "code",
   "execution_count": null,
   "id": "c7baf0c1",
   "metadata": {
    "ExecuteTime": {
     "end_time": "2023-07-23T04:15:48.240532Z",
     "start_time": "2023-07-23T04:15:48.212388Z"
    },
    "id": "c7baf0c1",
    "outputId": "b8ae0daa-05cf-4ba9-a327-94eaf9c15639"
   },
   "outputs": [],
   "source": [
    "# Sample data to understand the Data\n",
    "\n",
    "df.head()"
   ]
  },
  {
   "cell_type": "code",
   "execution_count": null,
   "id": "003235bc",
   "metadata": {
    "ExecuteTime": {
     "end_time": "2023-07-23T04:15:48.255708Z",
     "start_time": "2023-07-23T04:15:48.244714Z"
    },
    "id": "003235bc",
    "outputId": "8297eaaf-ec3f-4ac8-b1da-bed2bdc0c755"
   },
   "outputs": [],
   "source": [
    "# columns in dataframe\n",
    "\n",
    "df.columns"
   ]
  },
  {
   "cell_type": "code",
   "execution_count": null,
   "id": "1de095fb",
   "metadata": {
    "ExecuteTime": {
     "end_time": "2023-07-23T04:15:48.429658Z",
     "start_time": "2023-07-23T04:15:48.258709Z"
    },
    "id": "1de095fb",
    "outputId": "5d5aa2e7-18c3-4020-c17c-695a8bb6a0f0"
   },
   "outputs": [],
   "source": [
    "# Info of the data\n",
    "\n",
    "df.info()"
   ]
  },
  {
   "cell_type": "code",
   "execution_count": null,
   "id": "30239965",
   "metadata": {
    "ExecuteTime": {
     "end_time": "2023-07-23T04:15:48.600808Z",
     "start_time": "2023-07-23T04:15:48.431659Z"
    },
    "id": "30239965",
    "outputId": "3f0b31aa-b3ef-4021-e779-73a164852b06"
   },
   "outputs": [],
   "source": [
    "# checking null values in data\n",
    "\n",
    "df.isnull().sum()"
   ]
  },
  {
   "cell_type": "markdown",
   "id": "6c78c2fd",
   "metadata": {},
   "source": [
    "#### Checking the duplicate values"
   ]
  },
  {
   "cell_type": "code",
   "execution_count": null,
   "id": "a815f75b",
   "metadata": {
    "ExecuteTime": {
     "end_time": "2023-07-23T04:15:48.786790Z",
     "start_time": "2023-07-23T04:15:48.603218Z"
    },
    "id": "a815f75b",
    "outputId": "649d8f49-e722-417f-b285-79c25e5af38b"
   },
   "outputs": [],
   "source": [
    "df.duplicated().sum()"
   ]
  },
  {
   "cell_type": "code",
   "execution_count": null,
   "id": "d2f59c8e",
   "metadata": {
    "ExecuteTime": {
     "end_time": "2023-07-23T04:15:48.817462Z",
     "start_time": "2023-07-23T04:15:48.789468Z"
    },
    "id": "d2f59c8e",
    "outputId": "e1492ef0-2dce-4142-c1b3-da000a46ea7d"
   },
   "outputs": [],
   "source": [
    "df"
   ]
  },
  {
   "cell_type": "code",
   "execution_count": null,
   "id": "411baed1",
   "metadata": {
    "ExecuteTime": {
     "end_time": "2023-07-23T04:15:48.894555Z",
     "start_time": "2023-07-23T04:15:48.823675Z"
    },
    "id": "411baed1"
   },
   "outputs": [],
   "source": [
    "df['Electric Utility'] = df['Electric Utility'].fillna('Utility Not Avalilable')\n",
    "df['Legislative District'] = df['Legislative District'].fillna('Unknown')\n",
    "df['Vehicle Location'] = df['Vehicle Location'].fillna('Unknown')\n",
    "df['Model'] = df['Model'].fillna('Unknown')\n",
    "df['2020 Census Tract'] = df['2020 Census Tract'].fillna('Unknown')\n",
    "df['City'] = df['City'].fillna('Unknown')"
   ]
  },
  {
   "cell_type": "code",
   "execution_count": null,
   "id": "e6177d60",
   "metadata": {
    "ExecuteTime": {
     "end_time": "2023-07-23T04:15:48.910681Z",
     "start_time": "2023-07-23T04:15:48.899845Z"
    },
    "id": "e6177d60"
   },
   "outputs": [],
   "source": [
    "df['Postal Code'] = df['Postal Code'].astype(int)"
   ]
  },
  {
   "cell_type": "code",
   "execution_count": null,
   "id": "ffe2dcc5",
   "metadata": {
    "ExecuteTime": {
     "end_time": "2023-07-23T04:15:48.930396Z",
     "start_time": "2023-07-23T04:15:48.913043Z"
    },
    "id": "ffe2dcc5",
    "outputId": "36adad08-034c-4449-8dd4-ce3190c6feb8"
   },
   "outputs": [],
   "source": [
    "df.shape"
   ]
  },
  {
   "cell_type": "code",
   "execution_count": null,
   "id": "c4b87313",
   "metadata": {
    "ExecuteTime": {
     "end_time": "2023-07-23T04:15:49.130368Z",
     "start_time": "2023-07-23T04:15:48.931512Z"
    },
    "id": "c4b87313",
    "outputId": "f0bf169f-c62e-47cc-d38b-7cb5a7fd12f4"
   },
   "outputs": [],
   "source": [
    "df.isna().sum()"
   ]
  },
  {
   "cell_type": "code",
   "execution_count": null,
   "id": "fcc9aa01",
   "metadata": {
    "ExecuteTime": {
     "end_time": "2023-07-23T04:15:49.145689Z",
     "start_time": "2023-07-23T04:15:49.133483Z"
    },
    "id": "fcc9aa01",
    "outputId": "b31efe13-a996-4661-9914-7434cd40ab18"
   },
   "outputs": [],
   "source": [
    "# Checking the shape \n",
    "\n",
    "df.shape"
   ]
  },
  {
   "cell_type": "code",
   "execution_count": null,
   "id": "b03801d3",
   "metadata": {
    "ExecuteTime": {
     "end_time": "2023-07-23T04:15:49.334220Z",
     "start_time": "2023-07-23T04:15:49.148421Z"
    },
    "id": "b03801d3",
    "outputId": "4f187568-0681-498a-e61d-7265a62d1bea"
   },
   "outputs": [],
   "source": [
    "df.info()"
   ]
  },
  {
   "cell_type": "markdown",
   "id": "2c27db2a",
   "metadata": {},
   "source": [
    "#### Droping The Unwanted Columns"
   ]
  },
  {
   "cell_type": "code",
   "execution_count": null,
   "id": "1d80a9b2",
   "metadata": {
    "ExecuteTime": {
     "end_time": "2023-07-23T04:15:49.365640Z",
     "start_time": "2023-07-23T04:15:49.337230Z"
    }
   },
   "outputs": [],
   "source": [
    "df.drop(['Postal Code','Base MSRP','Legislative District','DOL Vehicle ID','Electric Utility','2020 Census Tract'],axis=1,inplace=True)"
   ]
  },
  {
   "cell_type": "markdown",
   "id": "4c9c3c31",
   "metadata": {},
   "source": [
    "<div class=\"jp-Cell-inputWrapper\"><div class=\"jp-InputPrompt jp-InputArea-prompt\">\n",
    "</div><div class=\"jp-RenderedHTMLCommon jp-RenderedMarkdown jp-MarkdownOutput \" data-mime-type=\"text/markdown\">\n",
    "<div style=\"background-color:#2E87A4 ;color:#FDFDFD;padding:20px;border:1px solid #3184BB;text-align:center;\">\n",
    "<p><font size=\"20\" color=#FDFAFD face=\"Lora\"><i> Task - 1 </i></font> </p>\n",
    "</div>"
   ]
  },
  {
   "cell_type": "markdown",
   "id": "bcae33b6",
   "metadata": {
    "id": "bcae33b6"
   },
   "source": [
    "#### which company makes most of the electric vehicles"
   ]
  },
  {
   "cell_type": "code",
   "execution_count": null,
   "id": "6b457c88",
   "metadata": {
    "ExecuteTime": {
     "end_time": "2023-07-23T04:15:51.091189Z",
     "start_time": "2023-07-23T04:15:49.367951Z"
    },
    "id": "6b457c88",
    "outputId": "c7f968ae-9047-4489-ac9b-94562cbf6e3c"
   },
   "outputs": [],
   "source": [
    "\n",
    "company_counts = df.groupby('Make').count().sort_values(by='City', ascending=False)['City'].reset_index()\n",
    "top_10 = company_counts[:10]\n",
    "\n",
    "# Create the bar chart\n",
    "fig = px.bar(top_10, x='Make', y='City', labels={'Make': 'Companies', 'City': 'Count'},\n",
    "             title='Top 10 Electric Vehicle Companies by Number of Cities', color='City',\n",
    "             color_continuous_scale='Viridis')\n",
    "\n",
    "# Show the plot\n",
    "fig.show()"
   ]
  },
  {
   "cell_type": "markdown",
   "id": "I9TjLc3vRPwK",
   "metadata": {
    "id": "I9TjLc3vRPwK"
   },
   "source": [
    "This plot shows the top 10 electric vehicle companies by number of cities in which they have registered vehicles.\n",
    "\n",
    "Tesla is the clear leader in the electric vehicle market, with registrations in most of the  cities.\n",
    "\n",
    "Nissan is the second-most popular electric vehicle company.\n",
    "\n",
    "Chevroletis the third-most popular electric vehicle company.\n",
    "\n",
    "Ford is the fourth-most popular electric vehicle company.\n",
    "\n",
    "BMW is the fifth-most popular electric vehicle company."
   ]
  },
  {
   "cell_type": "markdown",
   "id": "fa0a303c",
   "metadata": {
    "id": "fa0a303c"
   },
   "source": [
    "#### What are the Top 10 counties with more electric vehicles"
   ]
  },
  {
   "cell_type": "code",
   "execution_count": null,
   "id": "2e54e7c3",
   "metadata": {
    "ExecuteTime": {
     "end_time": "2023-07-23T04:15:51.482460Z",
     "start_time": "2023-07-23T04:15:51.093507Z"
    },
    "id": "2e54e7c3",
    "outputId": "c655759b-cc01-4eef-a505-a94162dc7c8b"
   },
   "outputs": [],
   "source": [
    "\n",
    "Counties = df.groupby('County').count().sort_values(by='City',ascending=False)['City'].index\n",
    "values = df.groupby('County').count().sort_values(by='City',ascending=False)['City'].values\n",
    "\n",
    "px.bar(x=list(Counties)[:10],y=values[:10],labels={'x':\"County Name\",'y':\"Number of Cars\"},color=values[:10])"
   ]
  },
  {
   "cell_type": "markdown",
   "id": "12268d2e",
   "metadata": {
    "id": "12268d2e"
   },
   "source": [
    "#### The bar plot shows the top 10 counties with the most electric vehicles registered in the United States.\n",
    "#### king County has the most electric vehicles, followed by snohomish  County and pierece County."
   ]
  },
  {
   "cell_type": "markdown",
   "id": "6_RDflqURsEI",
   "metadata": {
    "id": "6_RDflqURsEI"
   },
   "source": [
    "Top 10 vechicle Models"
   ]
  },
  {
   "cell_type": "code",
   "execution_count": null,
   "id": "3e40f400",
   "metadata": {
    "ExecuteTime": {
     "end_time": "2023-07-23T04:15:51.871997Z",
     "start_time": "2023-07-23T04:15:51.485816Z"
    },
    "id": "3e40f400",
    "outputId": "c4cc7680-3ef6-40f6-e7e8-b8a5958e598f"
   },
   "outputs": [],
   "source": [
    "Companies = df.groupby('Make').count().sort_values(by='City',ascending=False)['City'].index\n",
    "values = df.groupby('Make').count().sort_values(by='City',ascending=False)['City'].values\n",
    "top_n = 10  \n",
    "top_companies = company_counts[:top_n].reset_index() \n",
    "fig = px.bar(top_companies, x='Make', y='City', labels={'Make': 'Companies', 'City': 'Count'},\n",
    "             title='Top Companies Producing Electric Vehicles', color='City',\n",
    "             color_continuous_scale='Viridis') \n",
    "fig.update_layout(xaxis_tickangle=-45) \n",
    "\n",
    "fig.show() "
   ]
  },
  {
   "cell_type": "code",
   "execution_count": null,
   "id": "d41a1327",
   "metadata": {
    "ExecuteTime": {
     "end_time": "2023-07-23T04:15:51.949272Z",
     "start_time": "2023-07-23T04:15:51.874733Z"
    }
   },
   "outputs": [],
   "source": [
    "px.pie(names=list(Companies)[:10],values=values[:10],width=500,height=400)"
   ]
  },
  {
   "cell_type": "markdown",
   "id": "9WCAyc_0Rz03",
   "metadata": {
    "id": "9WCAyc_0Rz03"
   },
   "source": [
    "This plot shows the top 10 electric vehicle models by number of cities in which they are registered. The insights that we can draw from this chart are:\n",
    "\n",
    "The Tesla Model 3 is the most popular electric vehicle model, with registrations in over most of  cities.\n",
    "\n",
    "The Tesla Model Y is the second most popular electric vehicle model.\n",
    "\n",
    "The Nissan LEAF is the third most popular electric vehicle model.\n",
    "\n",
    "The Tesla Model S and Model X are also popular models."
   ]
  },
  {
   "cell_type": "markdown",
   "id": "DfUMPJrWSEDS",
   "metadata": {
    "id": "DfUMPJrWSEDS"
   },
   "source": [
    "what are the most sold models per each company"
   ]
  },
  {
   "cell_type": "code",
   "execution_count": null,
   "id": "3ebb4c51",
   "metadata": {
    "ExecuteTime": {
     "end_time": "2023-07-23T04:15:52.166227Z",
     "start_time": "2023-07-23T04:15:51.951596Z"
    },
    "id": "3ebb4c51",
    "outputId": "f6262d65-dadd-4021-dcf6-5aabad31ada9"
   },
   "outputs": [],
   "source": [
    "# Get the top 10 models by number of cities\n",
    "model_counts = df.groupby('Model').count().sort_values(by='City', ascending=False)['City'].reset_index()\n",
    "top_10 = model_counts[:10]\n",
    "\n",
    "# Create the bar chart\n",
    "fig = px.bar(top_10, x='Model', y='City', labels={'Model': 'Models', 'City': 'Count'},\n",
    "             title='Top 10 Electric Vehicle Models by Number of Cities', color='City',\n",
    "             color_continuous_scale='Viridis')\n",
    "\n",
    "# Show the plot\n",
    "fig.show()"
   ]
  },
  {
   "cell_type": "code",
   "execution_count": null,
   "id": "5d3cfaf3",
   "metadata": {
    "ExecuteTime": {
     "end_time": "2023-07-23T04:15:52.431797Z",
     "start_time": "2023-07-23T04:15:52.167935Z"
    }
   },
   "outputs": [],
   "source": [
    "top_10_companies = list(Companies)[:10]\n",
    "for i in top_10_companies:\n",
    "    data = df[df['Make']==i]\n",
    "    data = data.groupby('Model').count().sort_values(by='City',ascending=False).index\n",
    "    print('Top selling model for',i,'is ----------->',data[0])"
   ]
  },
  {
   "cell_type": "code",
   "execution_count": null,
   "id": "65637ca2",
   "metadata": {
    "ExecuteTime": {
     "end_time": "2023-07-23T04:15:52.758428Z",
     "start_time": "2023-07-23T04:15:52.435165Z"
    },
    "id": "65637ca2",
    "outputId": "7888daf1-d264-4da8-989d-7fe53922f2da"
   },
   "outputs": [],
   "source": [
    "#Percentage of BEV vs PHEV\n",
    "Vehicle_type = list(df.groupby('Electric Vehicle Type').count()['County'].index)\n",
    "values = df.groupby('Electric Vehicle Type').count()['County'].values\n",
    "\n",
    "px.pie(names=Vehicle_type,values=values,height=400)"
   ]
  },
  {
   "cell_type": "markdown",
   "id": "BQqftLglSN5D",
   "metadata": {
    "id": "BQqftLglSN5D"
   },
   "source": [
    "Majority of the vehicles are Battery Electric Vehicles(BEV)"
   ]
  },
  {
   "cell_type": "code",
   "execution_count": null,
   "id": "30336df3",
   "metadata": {
    "ExecuteTime": {
     "end_time": "2023-07-23T04:15:53.566313Z",
     "start_time": "2023-07-23T04:15:52.761875Z"
    },
    "id": "30336df3",
    "outputId": "52ff7457-6c4d-4606-b7cc-5de845ce9e69"
   },
   "outputs": [],
   "source": [
    "# whats the percentage of top 10 companies vehicles are BEV and PHEV\n",
    "\n",
    "for index,i in enumerate(top_10_companies):\n",
    "    data = df[df['Make']==i]\n",
    "    labels = list(data.groupby('Electric Vehicle Type').count()['City'].index)\n",
    "    values = list(data.groupby('Electric Vehicle Type').count()['City'].values)\n",
    "    fig = px.pie(names=labels,values=values,width=700,height=400,title=str(i))\n",
    "    fig.show()"
   ]
  },
  {
   "cell_type": "markdown",
   "id": "6-fe3pbnSj2Q",
   "metadata": {
    "id": "6-fe3pbnSj2Q"
   },
   "source": [
    "This plot shows the distribution of electric vehicle types for each of the top 10 companies:\n",
    "\n",
    "Tesla ,Nissan,volkswagen are producing majority battery electric vehicles (BEVs)\n",
    "\n",
    "other companies are producing  plug-in hybrid electric vehicles (PHEVs)."
   ]
  },
  {
   "cell_type": "code",
   "execution_count": null,
   "id": "2d812d20",
   "metadata": {
    "ExecuteTime": {
     "end_time": "2023-07-23T04:15:53.674953Z",
     "start_time": "2023-07-23T04:15:53.566313Z"
    },
    "id": "2d812d20",
    "outputId": "e7935682-57bd-42f7-f7c8-d52443d569af"
   },
   "outputs": [],
   "source": [
    "year_wise_cars = df.groupby('Model Year')['VIN (1-10)'].count().reset_index()\n",
    "year_wise_cars.columns = ['year','num_cars']\n",
    "fig = px.line(year_wise_cars,x=\"year\", y=\"num_cars\", title='Year Wise Number of Cars',markers=True)\n",
    "fig.show()"
   ]
  },
  {
   "cell_type": "code",
   "execution_count": null,
   "id": "bc7f3ae3",
   "metadata": {
    "ExecuteTime": {
     "end_time": "2023-07-23T04:15:53.690496Z",
     "start_time": "2023-07-23T04:15:53.676954Z"
    },
    "id": "bc7f3ae3",
    "outputId": "c309d125-f677-467e-d343-18600c9c35ec"
   },
   "outputs": [],
   "source": [
    "year_wise_cars.sort_values(by='num_cars', ascending=False).head(10)"
   ]
  },
  {
   "cell_type": "markdown",
   "id": "n6hNFzo9T86a",
   "metadata": {
    "id": "n6hNFzo9T86a"
   },
   "source": [
    "The line chart you provided shows the number of electric vehicles registered in the United States by year. The insights that we can draw from this chart are:\n",
    "\n",
    "The number of electric vehicles registered in the United States has been increasing steadily in recent years.\n",
    "\n",
    "The number of electric vehicles registered in the United States has continued to grow in recent years.\n",
    "\n",
    "The chart also shows that there is a wide range of years with different numbers of electric vehicles registered."
   ]
  },
  {
   "cell_type": "code",
   "execution_count": null,
   "id": "58a4bcc0",
   "metadata": {
    "ExecuteTime": {
     "end_time": "2023-07-23T04:15:53.877889Z",
     "start_time": "2023-07-23T04:15:53.693481Z"
    },
    "id": "58a4bcc0",
    "outputId": "a28e41bd-5047-4abf-fab2-17720f8b4374"
   },
   "outputs": [],
   "source": [
    "car_counts_St = df['State'].value_counts().nlargest(10)\n",
    "\n",
    "fig = px.bar(car_counts_St, x=car_counts_St.index, y=car_counts_St.values,\n",
    "             labels={'x': 'State', 'y': 'Number of Cars (log scale)'},\n",
    "             title='Top 10 Count of Cars per State',\n",
    "             template='plotly_dark')\n",
    "\n",
    "fig.update_layout(yaxis_type='log')\n",
    "\n",
    "fig.update_traces(marker_color='steelblue')\n",
    "\n",
    "\n",
    "fig.show()\n",
    "car_counts_St_df = car_counts_St.to_frame()\n",
    "car_counts_St_df.style.background_gradient(cmap='Blues')"
   ]
  },
  {
   "cell_type": "markdown",
   "id": "8A1HvLViUsn_",
   "metadata": {
    "id": "8A1HvLViUsn_"
   },
   "source": [
    "WA state has more number of cars"
   ]
  },
  {
   "cell_type": "code",
   "execution_count": null,
   "id": "d039c6d6",
   "metadata": {
    "ExecuteTime": {
     "end_time": "2023-07-23T04:15:54.159031Z",
     "start_time": "2023-07-23T04:15:53.881210Z"
    },
    "id": "d039c6d6",
    "outputId": "dc9e4c69-83bd-4583-e174-04601d7885ae"
   },
   "outputs": [],
   "source": [
    "cnt_MkCity = df.groupby(['City', 'Make']).size().reset_index(name='Count')\n",
    "\n",
    "#  Group the data by city and make, and sum the counts for each group\n",
    "grouped_data_cty = cnt_MkCity.groupby(['City', 'Make'])['Count'].sum().reset_index()\n",
    "\n",
    "#  Group the data by city and sum the counts for each city and make\n",
    "city_counts = grouped_data_cty.groupby('City')['Count'].sum().reset_index()\n",
    "make_counts = grouped_data_cty.groupby('Make')['Count'].sum().reset_index()\n",
    "\n",
    "#  Sort the cities by count in descending order, and select the top 10\n",
    "top_cities = city_counts.sort_values(by='Count', ascending=False).head(10)\n",
    "top_makes = make_counts.sort_values(by='Count', ascending=False).head(10)\n",
    "\n",
    "#  Filter the data to only include the top 10 cities and top 10 makes\n",
    "filtered_data_Cty = grouped_data_cty[\n",
    "    grouped_data_cty['City'].isin(top_cities['City']) & grouped_data_cty['Make'].isin(top_makes['Make'])\n",
    "]\n",
    "\n",
    "\n",
    "pivoted_data_cty = filtered_data_Cty.pivot(index='City', columns='Make', values='Count').fillna(0)\n",
    "\n",
    "fig = go.Figure()\n",
    "\n",
    "for make in top_makes['Make']:\n",
    "    fig.add_trace(go.Bar(name=make, x=pivoted_data_cty.index, y=pivoted_data_cty[make]))\n",
    "\n",
    "fig.update_layout(title='Top 10 Make distribution count per top 10 City',\n",
    "                  xaxis_title='City',\n",
    "                  yaxis_title='Number of Cars')\n",
    "\n",
    "\n",
    "fig.show()\n",
    "\n",
    "pivoted_data_cty.head()"
   ]
  },
  {
   "cell_type": "markdown",
   "id": "1xxaHOUAVy2r",
   "metadata": {
    "id": "1xxaHOUAVy2r"
   },
   "source": [
    "The stacked bar plot you provided shows the distribution of electric vehicles by make in the top 10 cities in the United States. The insights that we can draw from this plot are:\n",
    "\n",
    "Tesla is the most popular make in the top 10 cities, followed by Nissan and Chevrolet.\n",
    "\n",
    "The plot also shows that there is a wide range of makes represented in the top 10 cities. This suggests that there is a growing demand for electric vehicles from a variety of manufacturers.\n"
   ]
  },
  {
   "cell_type": "code",
   "execution_count": null,
   "id": "5d28690b",
   "metadata": {
    "ExecuteTime": {
     "end_time": "2023-07-23T04:15:54.364534Z",
     "start_time": "2023-07-23T04:15:54.164049Z"
    },
    "id": "5d28690b",
    "outputId": "ed60036b-4117-4f29-894d-6e2c0afba5f4"
   },
   "outputs": [],
   "source": [
    "import pandas as pd\n",
    "import plotly.graph_objects as go\n",
    "\n",
    "# Calculate the counts of cars for each state and make combination\n",
    "cnt_Mk_St = df.groupby(['State', 'Make']).size().reset_index(name='Count')\n",
    "\n",
    "#  Group the data by state and make, and sum the counts for each group\n",
    "grouped_data_St = cnt_Mk_St.groupby(['State', 'Make'])['Count'].sum().reset_index()\n",
    "\n",
    "#  Group the data by state and sum the counts for each state and make\n",
    "st_counts = grouped_data_St.groupby('State')['Count'].sum().reset_index()\n",
    "make_counts = grouped_data_St.groupby('Make')['Count'].sum().reset_index()\n",
    "\n",
    "#  Sort the states by count in descending order, and select the top 10\n",
    "top_States = st_counts.sort_values(by='Count', ascending=False).head(10)\n",
    "top_makes = make_counts.sort_values(by='Count', ascending=False).head(10)\n",
    "\n",
    "#  Filter the data to only include the top 10 states and top 10 makes\n",
    "filtered_data_St = grouped_data_St[\n",
    "    grouped_data_St['State'].isin(top_States['State']) & grouped_data_St['Make'].isin(top_makes['Make'])\n",
    "]\n",
    "\n",
    "\n",
    "pivoted_data_St = filtered_data_St.pivot(index='State', columns='Make', values='Count').fillna(0)\n",
    "\n",
    "fig = go.Figure()\n",
    "\n",
    "for make in top_makes['Make']:\n",
    "    fig.add_trace(go.Bar(name=make, x=pivoted_data_St.index, y=pivoted_data_St[make]))\n",
    "\n",
    "\n",
    "fig.update_layout(title='Top 10 Make distribution count per top 10 State',\n",
    "                  xaxis_title='State',\n",
    "                  yaxis_title='Number of Cars',\n",
    "                  yaxis_type='log')  # Set y-axis to logarithmic scale\n",
    "\n",
    "fig.show()\n",
    "\n",
    "\n",
    "pivoted_data_St.head(10)\n"
   ]
  },
  {
   "cell_type": "markdown",
   "id": "1db2f831",
   "metadata": {},
   "source": [
    "#### This plot shows make distribution of cars top 10 states\n",
    "#### Tesla clearly Tops  the list"
   ]
  },
  {
   "cell_type": "code",
   "execution_count": null,
   "id": "9ddf3064",
   "metadata": {
    "ExecuteTime": {
     "end_time": "2023-07-23T04:15:54.740859Z",
     "start_time": "2023-07-23T04:15:54.367042Z"
    }
   },
   "outputs": [],
   "source": [
    "fig = px.histogram(df, x='Electric Range', color='Electric Vehicle Type',\n",
    "                   nbins=30, barmode='overlay', histfunc='count', \n",
    "                   labels={'Electric Range': 'Electric Range', 'Electric Vehicle Type': 'Vehicle Type'},\n",
    "                   title='Electric Vehicle Range Distribution by Vehicle Type')\n",
    "\n",
    "# Step 3: Show the plot\n",
    "fig.show()"
   ]
  },
  {
   "cell_type": "markdown",
   "id": "dV4mSBhPXDc8",
   "metadata": {
    "id": "dV4mSBhPXDc8"
   },
   "source": [
    "\n",
    "The histogram you provided shows the distribution of electric vehicle ranges by vehicle type. The insights that we can draw from this plot are:\n",
    "\n",
    "There is a wide range of electric vehicle ranges, from around 100 miles to over 300 miles.\n",
    "\n",
    "Battery electric vehicles (BEVs) have a wider range than plug-in hybrid electric vehicles (PHEVs).\n",
    "\n",
    "The average range for BEVs is around 200 miles, while the average range for PHEVs is around 50 miles.\n",
    "\n",
    "There are a few BEVs with ranges of over 300 miles, but most BEVs have ranges of less than 250 miles."
   ]
  },
  {
   "cell_type": "markdown",
   "id": "aeb39651",
   "metadata": {
    "ExecuteTime": {
     "end_time": "2023-07-23T04:12:01.244563Z",
     "start_time": "2023-07-23T04:12:01.231545Z"
    }
   },
   "source": [
    "<div class=\"jp-Cell-inputWrapper\"><div class=\"jp-InputPrompt jp-InputArea-prompt\">\n",
    "</div><div class=\"jp-RenderedHTMLCommon jp-RenderedMarkdown jp-MarkdownOutput \" data-mime-type=\"text/markdown\">\n",
    "<div style=\"background-color:#2E87A4 ;color:#FDFDFD;padding:20px;border:1px solid #3184BB;text-align:center;\">\n",
    "<p><font size=\"20\" color=#FDFAFD face=\"Lora\"><i> Task - 2 </i></font> </p>\n",
    "</div>"
   ]
  },
  {
   "cell_type": "markdown",
   "id": "3641ebeb",
   "metadata": {},
   "source": [
    "#### Number of models of company for each year for last 10 years"
   ]
  },
  {
   "cell_type": "code",
   "execution_count": null,
   "id": "f007f61a",
   "metadata": {
    "ExecuteTime": {
     "end_time": "2023-07-23T04:15:55.324455Z",
     "start_time": "2023-07-23T04:15:54.743097Z"
    },
    "id": "f007f61a",
    "outputId": "adeba2a4-aa48-433e-f574-be4bc77235d3"
   },
   "outputs": [],
   "source": [
    "#Number of models of company for each year for last 10 years\n",
    "data = df.copy()\n",
    "data['top_10'] = data['Make'].apply(lambda x: 1 if x in top_10_companies else 0)\n",
    "data = data[data['top_10'] == 1]\n",
    "data = data[data['Model Year'] >= 2011]\n",
    "\n",
    "#  Create the Count plot using Plotly\n",
    "fig = px.histogram(data, x='Model Year', color='Make', barmode='group', labels={'Model Year': 'Model Year', 'Make': 'Manufacturer'},\n",
    "                   title='Model Year Distribution for Top 10 Companies (Since 2011)',\n",
    "                   template='ggplot2')\n",
    "\n",
    "#  Show the plot\n",
    "fig.show()\n",
    "\n"
   ]
  },
  {
   "cell_type": "markdown",
   "id": "4c63bc03",
   "metadata": {},
   "source": [
    "#### From 2018 Tesla vechiles  are increasing rapidly .\n",
    "#### earlier NISSAN and CHEVY used to have hold of the market then TESLA took over it "
   ]
  },
  {
   "cell_type": "code",
   "execution_count": null,
   "id": "0e96ee60",
   "metadata": {
    "ExecuteTime": {
     "end_time": "2023-07-23T04:15:55.510269Z",
     "start_time": "2023-07-23T04:15:55.327455Z"
    },
    "id": "0e96ee60"
   },
   "outputs": [],
   "source": [
    "\n",
    "import re\n",
    "Location_data = df.groupby('Vehicle Location').count()['County'].reset_index()\n",
    "Location_data.rename(columns={'Vehicle Location': 'Locations', 'County': 'Count'}, inplace=True)\n",
    "\n",
    "#  Extract latitude and longitude from 'Locations'\n",
    "def extract_latitude(location):\n",
    "    try:\n",
    "        latitude = re.findall(r'[-+]?\\d*\\.\\d+|\\d+', location.split('(')[-1])\n",
    "        return float(latitude[0])\n",
    "    except:\n",
    "        return None\n",
    "\n",
    "def extract_longitude(location):\n",
    "    try:\n",
    "        longitude = re.findall(r'[-+]?\\d*\\.\\d+|\\d+', location.split('(')[-1])\n",
    "        return float(longitude[1])\n",
    "    except:\n",
    "        return None\n",
    "\n",
    "Location_data['Latitude'] = Location_data['Locations'].apply(extract_latitude)\n",
    "Location_data['Longitude'] = Location_data['Locations'].apply(extract_longitude)\n",
    "\n",
    "Location_data.dropna(subset=['Latitude', 'Longitude'], inplace=True)"
   ]
  },
  {
   "cell_type": "code",
   "execution_count": null,
   "id": "471399d3",
   "metadata": {
    "ExecuteTime": {
     "end_time": "2023-07-23T04:15:55.664461Z",
     "start_time": "2023-07-23T04:15:55.512432Z"
    },
    "id": "471399d3",
    "outputId": "62197532-16dc-4af1-cf65-43f771abef2b"
   },
   "outputs": [],
   "source": [
    "fig = px.scatter(Location_data, x=Location_data['Latitude'],y= Location_data['Longitude'], size='Count', color='Count',\n",
    "                 labels={'Latitude': 'Latitude', 'Longitude': 'Longitude', 'Count': 'Count'},\n",
    "                 title='Vehicle Locations and Counts',\n",
    "                 hover_data=['Locations', 'Count'])\n",
    "\n",
    "\n",
    "fig.update_layout(xaxis_range=[-130, -60], yaxis_range=[20, 60])\n",
    "\n",
    "\n",
    "fig.show()\n"
   ]
  },
  {
   "cell_type": "markdown",
   "id": "w5PwomtlXlpl",
   "metadata": {
    "id": "w5PwomtlXlpl"
   },
   "source": [
    "\n",
    "The scatter plot  provided shows the locations of electric vehicles in the United States, with the size of the points representing the number of vehicles at that location. The insights that we can draw from this plot are:\n",
    "\n",
    "There are a number of clusters of electric vehicles, particularly in the northeastern United States, and the Pacific Northwest.\n",
    "There are fewer electric vehicles in the southern and central United States.\n",
    "\n",
    "The size of the points shows that there is a wide variation in the number of electric vehicles at different locations.\n",
    "\n",
    "The plot also shows that there is a positive correlation between the number of electric vehicles and population density, meaning that there are more electric vehicles in areas with more people."
   ]
  },
  {
   "cell_type": "code",
   "execution_count": null,
   "id": "675c2c93",
   "metadata": {
    "ExecuteTime": {
     "end_time": "2023-07-23T04:15:56.460719Z",
     "start_time": "2023-07-23T04:15:55.667446Z"
    },
    "id": "675c2c93"
   },
   "outputs": [],
   "source": [
    "df_copy = df.copy()\n",
    "\n",
    "#  Extract latitude and longitude from 'Vehicle Location'\n",
    "def extract_latitude(location):\n",
    "    try:\n",
    "        latitude = re.findall(r'[-+]?\\d*\\.\\d+|\\d+', location.split('(')[-1])\n",
    "        return float(latitude[0])\n",
    "    except:\n",
    "        return None\n",
    "\n",
    "def extract_longitude(location):\n",
    "    try:\n",
    "        longitude = re.findall(r'[-+]?\\d*\\.\\d+|\\d+', location.split('(')[-1])\n",
    "        return float(longitude[1])\n",
    "    except:\n",
    "        return None\n",
    "\n",
    "df_copy['Lattitude'] = df_copy['Vehicle Location'].apply(extract_latitude)\n",
    "df_copy['Longitude'] = df_copy['Vehicle Location'].apply(extract_longitude)\n",
    "df_copy.dropna(subset=['Lattitude', 'Longitude'], inplace=True)"
   ]
  },
  {
   "cell_type": "code",
   "execution_count": null,
   "id": "a0fb2a77",
   "metadata": {
    "ExecuteTime": {
     "end_time": "2023-07-23T04:15:58.021910Z",
     "start_time": "2023-07-23T04:15:56.462720Z"
    },
    "id": "a0fb2a77",
    "outputId": "0c7893f3-68d4-4f59-92b1-9123315fd161"
   },
   "outputs": [],
   "source": [
    "fig = px.scatter(df_copy, x='Lattitude', y='Longitude', color='Clean Alternative Fuel Vehicle (CAFV) Eligibility',\n",
    "                 labels={'Lattitude': 'Latitude', 'Longitude': 'Longitude',\n",
    "                         'Clean Alternative Fuel Vehicle (CAFV) Eligibility': 'CAFV Eligibility'},\n",
    "                 title='Scatter Plot of Latitude and Longitude')\n",
    "\n",
    "\n",
    "fig.update_layout(xaxis_range=[-130, -60], yaxis_range=[20, 50])\n",
    "\n",
    "\n",
    "fig.show()"
   ]
  },
  {
   "cell_type": "markdown",
   "id": "AT_yh73PYBWU",
   "metadata": {
    "id": "AT_yh73PYBWU"
   },
   "source": [
    "\n",
    "The scatter plot you provided shows the distribution of electric vehicles by latitude and longitude. The insights that we can draw from this plot are:\n",
    "\n",
    "There is a clear cluster of electric vehicles in the northwestren United States.\n",
    "\n",
    "There are also clusters of electric vehicles in the northeastern United States.\n",
    "\n",
    "There are fewer electric vehicles in the southern and central United States.\n",
    "\n",
    "There is a positive correlation between latitude and CAFV eligibility, meaning that there are more electric vehicles eligible for CAFV rebates in the northern states.\n"
   ]
  },
  {
   "cell_type": "code",
   "execution_count": null,
   "id": "0a8ece75",
   "metadata": {
    "ExecuteTime": {
     "end_time": "2023-07-23T04:15:59.581563Z",
     "start_time": "2023-07-23T04:15:58.024911Z"
    },
    "id": "0a8ece75",
    "outputId": "ca899437-d5aa-4e88-da8a-f6e1519be651"
   },
   "outputs": [],
   "source": [
    "fig = px.scatter(df_copy, x='Lattitude', y='Longitude', color='Electric Vehicle Type',\n",
    "                 labels={'Lattitude': 'Latitude', 'Longitude': 'Longitude',\n",
    "                         'Electric Vehicle Type': 'Electric Vehicle Type'},\n",
    "                 title='Scatter Plot of Latitude and Longitude')\n",
    "\n",
    "# Step 5: Set the plot limits for Latitude and Longitude\n",
    "fig.update_layout(xaxis_range=[-130, -60], yaxis_range=[20, 50])\n",
    "\n",
    "# Step 6: Show the plot\n",
    "fig.show()"
   ]
  },
  {
   "cell_type": "markdown",
   "id": "a56cd466",
   "metadata": {
    "id": "f36b57b9"
   },
   "source": [
    "\n",
    "#### The scatter plot you provided shows the distribution of electric vehicles by latitude and longitude, with the points colored by electric vehicle type. The insights that we can draw from this plot are:\n",
    "\n",
    "#### There is a clear cluster of battery electric vehicles (BEVs) in the western United States.\n",
    "##### There are also clusters of BEVs in the northwestern United States.\n",
    "#### There are fewer BEVs in the southern and central United States.\n",
    "#### Plug-in hybrid electric vehicles (PHEVs) are more evenly distributed across the United States.\n",
    "#### There is a positive correlation between latitude and BEV ownership, meaning that there are more BEVs in the northern states."
   ]
  },
  {
   "cell_type": "code",
   "execution_count": null,
   "id": "2c825fce",
   "metadata": {
    "ExecuteTime": {
     "end_time": "2023-07-23T04:15:59.815102Z",
     "start_time": "2023-07-23T04:15:59.583808Z"
    },
    "id": "2c825fce"
   },
   "outputs": [],
   "source": [
    "states = list(df.groupby('State').count().sort_values(by='City',ascending=False)['City'].index)\n",
    "values = df.groupby('State').count().sort_values(by='City',ascending=False)['City'].values"
   ]
  },
  {
   "cell_type": "code",
   "execution_count": null,
   "id": "56fcd67c",
   "metadata": {
    "ExecuteTime": {
     "end_time": "2023-07-23T04:15:59.924635Z",
     "start_time": "2023-07-23T04:15:59.817103Z"
    },
    "id": "56fcd67c"
   },
   "outputs": [],
   "source": [
    "data = pd.DataFrame(df.groupby('State').count().sort_values(by='City',ascending=False)['City'])"
   ]
  },
  {
   "cell_type": "code",
   "execution_count": null,
   "id": "1abd544e",
   "metadata": {
    "ExecuteTime": {
     "end_time": "2023-07-23T04:15:59.940389Z",
     "start_time": "2023-07-23T04:15:59.926661Z"
    },
    "id": "1abd544e"
   },
   "outputs": [],
   "source": [
    "data = data.reset_index()"
   ]
  },
  {
   "cell_type": "code",
   "execution_count": null,
   "id": "cb016db2",
   "metadata": {
    "ExecuteTime": {
     "end_time": "2023-07-23T04:15:59.955545Z",
     "start_time": "2023-07-23T04:15:59.944549Z"
    },
    "id": "cb016db2"
   },
   "outputs": [],
   "source": [
    "data.columns = ['State','Count']"
   ]
  },
  {
   "cell_type": "markdown",
   "id": "f1222efd",
   "metadata": {},
   "source": [
    "#### Choropleth to display the number of EV vehicles based on location.\n"
   ]
  },
  {
   "cell_type": "code",
   "execution_count": null,
   "id": "d443e042",
   "metadata": {
    "ExecuteTime": {
     "end_time": "2023-07-23T04:16:00.066955Z",
     "start_time": "2023-07-23T04:15:59.958623Z"
    },
    "id": "d443e042",
    "outputId": "d02871c6-fa53-4894-fb55-0a086cb47754"
   },
   "outputs": [],
   "source": [
    "fig = px.choropleth(data,\n",
    "                    locations='State',\n",
    "                    locationmode=\"USA-states\",\n",
    "                    color='Count',\n",
    "                    color_continuous_scale=\"blues\",\n",
    "                    scope=\"usa\")\n",
    "\n",
    "fig.show()"
   ]
  },
  {
   "cell_type": "markdown",
   "id": "e9b0ced9",
   "metadata": {},
   "source": [
    "<div class=\"jp-Cell-inputWrapper\"><div class=\"jp-InputPrompt jp-InputArea-prompt\">\n",
    "</div><div class=\"jp-RenderedHTMLCommon jp-RenderedMarkdown jp-MarkdownOutput \" data-mime-type=\"text/markdown\">\n",
    "<div style=\"background-color:#2E87A4 ;color:#FDFDFD;padding:20px;border:1px solid #3184BB;text-align:center;\">\n",
    "<p><font size=\"20\" color=#FDFAFD face=\"Lora\"><i> Task - 3 </i></font> </p>\n",
    "</div>"
   ]
  },
  {
   "cell_type": "markdown",
   "id": "abd509d5",
   "metadata": {},
   "source": [
    "####  Create a Racing Bar Plot to display the animation of EV Make and its count each year."
   ]
  },
  {
   "cell_type": "code",
   "execution_count": null,
   "id": "e684e99b",
   "metadata": {
    "ExecuteTime": {
     "end_time": "2023-07-23T04:16:02.283570Z",
     "start_time": "2023-07-23T04:16:00.068034Z"
    }
   },
   "outputs": [],
   "source": [
    "\n",
    "\n",
    "# Group the data by 'Model Year' and 'Make', and calculate the count for each group\n",
    "ev_make_count_by_year = df.groupby(['Model Year', 'Make']).size().reset_index(name='Count')\n",
    "\n",
    "# Ensure all combinations of 'Model Year' and 'Make' with zero counts are included\n",
    "all_model_years = df['Model Year'].unique()\n",
    "all_makes = df['Make'].unique()\n",
    "all_combinations = pd.MultiIndex.from_product([all_model_years, all_makes], names=['Model Year', 'Make'])\n",
    "all_combinations_df = pd.DataFrame(index=all_combinations).reset_index()\n",
    "\n",
    "ev_make_count_by_year = pd.merge(all_combinations_df, ev_make_count_by_year, on=['Model Year', 'Make'], how='left')\n",
    "ev_make_count_by_year['Count'].fillna(0, inplace=True)\n",
    "\n",
    "# Create the Racing Bar Plot using Plotly\n",
    "fig = px.bar(ev_make_count_by_year,\n",
    "             x='Count',\n",
    "             y='Make',\n",
    "             animation_frame='Model Year',\n",
    "             color='Make',\n",
    "             labels={'Make': 'EV Make', 'Count': 'Count'},\n",
    "             title='EV Maker and Count Each Year'\n",
    "            )\n",
    "\n",
    "# Customize the layout\n",
    "fig.update_layout(\n",
    "    xaxis_title='Count',\n",
    "    yaxis_title='EV Make',\n",
    "    yaxis={'categoryorder': 'total ascending'}  \n",
    ")\n",
    "\n",
    "fig.show()\n"
   ]
  },
  {
   "cell_type": "markdown",
   "id": "jteZRo9GYrFW",
   "metadata": {
    "id": "jteZRo9GYrFW"
   },
   "source": [
    "Conclusion\n",
    "\n",
    "The electric vehicle market is  growing rapidly.\n",
    "\n",
    "The electric vehicle market is likely to continue to grow in the coming years, as the demand for electric vehicles increases.\n",
    "\n",
    "TESLA is  a Leading in Electric  Vechile Manufacturer .\n",
    "\n",
    "Majority of the vehicles are Battery Electric Vehicles(BEV) and Tesla is producing Battery Electric Vehicles(BEV)\n",
    "\n",
    "There is a positive correlation between the number of electric vehicles and population density, meaning that there are more electric vehicles in areas with more people.\n",
    "\n",
    "There are more BEVs in the northwestren states.\n"
   ]
  },
  {
   "cell_type": "code",
   "execution_count": null,
   "id": "b21a70c1",
   "metadata": {},
   "outputs": [],
   "source": []
  }
 ],
 "metadata": {
  "colab": {
   "provenance": []
  },
  "kernelspec": {
   "display_name": "Python 3 (ipykernel)",
   "language": "python",
   "name": "python3"
  },
  "language_info": {
   "codemirror_mode": {
    "name": "ipython",
    "version": 3
   },
   "file_extension": ".py",
   "mimetype": "text/x-python",
   "name": "python",
   "nbconvert_exporter": "python",
   "pygments_lexer": "ipython3",
   "version": "3.9.12"
  }
 },
 "nbformat": 4,
 "nbformat_minor": 5
}
